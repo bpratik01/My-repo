{
 "cells": [
  {
   "cell_type": "markdown",
   "id": "20d15139",
   "metadata": {},
   "source": [
    "# Data Science Tools and Ecosystem\n"
   ]
  },
  {
   "cell_type": "markdown",
   "id": "641e783a",
   "metadata": {},
   "source": [
    "In this notebook Data Science Tools and Ecosystem are summarized."
   ]
  },
  {
   "cell_type": "markdown",
   "id": "657dea0c",
   "metadata": {},
   "source": [
    "Some of the popular languages that Data Scientist use are:\n",
    "1. Python\n",
    "2. R\n",
    "3. SQL\n"
   ]
  },
  {
   "cell_type": "markdown",
   "id": "43d09f3b",
   "metadata": {},
   "source": [
    "**Objectives:**\n",
    "\n",
    "- Learn to use markdown cells and code cell\n",
    "- Learn to give headings in different levels\n",
    "- Learn to use ordered list\n",
    "- Learn to use unordered list\n"
   ]
  },
  {
   "cell_type": "markdown",
   "id": "f04c65d5",
   "metadata": {},
   "source": [
    "Some of the most commonly used libraries used by Data scientist include:\n",
    "1. Numpy\n",
    "2. Pandas\n",
    "3. Matplotlib\n"
   ]
  },
  {
   "cell_type": "code",
   "execution_count": null,
   "id": "31b94956",
   "metadata": {},
   "outputs": [],
   "source": [
    "|Data Science Tools|\n",
    "|------------------|\n",
    "|Google Colab      |\n",
    "|Jupyter Notebook |\n",
    "|Rstudio           |"
   ]
  },
  {
   "cell_type": "markdown",
   "id": "3bb0fcae",
   "metadata": {},
   "source": [
    "### Below are a few example of evaluating arithmatic expression in Python:\n",
    "Addition- 3+2=5\n",
    "Subtraction- 3 - 2 = 1\n",
    "multiplication- 3 * 2=6\n"
   ]
  },
  {
   "cell_type": "code",
   "execution_count": 6,
   "id": "ff3a3653",
   "metadata": {},
   "outputs": [
    {
     "name": "stdout",
     "output_type": "stream",
     "text": [
      "17\n"
     ]
    }
   ],
   "source": [
    "#this is a simpple arithmatic expression to multiply then add integer\n",
    "\n",
    "print((3*4)+5)"
   ]
  },
  {
   "cell_type": "code",
   "execution_count": 8,
   "id": "60d4f532",
   "metadata": {},
   "outputs": [
    {
     "name": "stdout",
     "output_type": "stream",
     "text": [
      "3.3333333333333335\n"
     ]
    }
   ],
   "source": [
    "#this will convert 200 minutes to hours by dividing by 60\n",
    "\n",
    "min = 200\n",
    "\n",
    "hours = min / 60\n",
    "\n",
    "print(hours)"
   ]
  },
  {
   "cell_type": "markdown",
   "id": "f052db9d",
   "metadata": {},
   "source": [
    "## Author\n",
    "\n",
    "Pratik R Bokade\n"
   ]
  }
 ],
 "metadata": {
  "kernelspec": {
   "display_name": "Python 3 (ipykernel)",
   "language": "python",
   "name": "python3"
  },
  "language_info": {
   "codemirror_mode": {
    "name": "ipython",
    "version": 3
   },
   "file_extension": ".py",
   "mimetype": "text/x-python",
   "name": "python",
   "nbconvert_exporter": "python",
   "pygments_lexer": "ipython3",
   "version": "3.10.6"
  }
 },
 "nbformat": 4,
 "nbformat_minor": 5
}
